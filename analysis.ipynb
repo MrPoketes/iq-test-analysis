{
 "cells": [
  {
   "cell_type": "code",
   "execution_count": 5,
   "metadata": {},
   "outputs": [],
   "source": [
    "import os\n",
    "from dotenv import  load_dotenv\n",
    "from sqlalchemy import create_engine, text\n",
    "import pandas as pd\n",
    "import scipy.stats as stats\n",
    "import numpy as np\n",
    "import matplotlib.pyplot as plt"
   ]
  },
  {
   "attachments": {},
   "cell_type": "markdown",
   "metadata": {},
   "source": [
    "### Connect to Database"
   ]
  },
  {
   "cell_type": "code",
   "execution_count": 2,
   "metadata": {},
   "outputs": [],
   "source": [
    "load_dotenv()\n",
    "\n",
    "database = os.getenv(\"DATABASE_NAME\")\n",
    "username = os.getenv(\"DATABASE_USERNAME\")\n",
    "password = os.getenv(\"DATABASE_PASSWORD\")\n",
    "host = os.getenv(\"DATABASE_HOST\")\n",
    "port = os.getenv(\"DATABASE_PORT\")"
   ]
  },
  {
   "cell_type": "code",
   "execution_count": 3,
   "metadata": {},
   "outputs": [
    {
     "name": "stdout",
     "output_type": "stream",
     "text": [
      "Connected Successfully\n"
     ]
    }
   ],
   "source": [
    "try:\n",
    "    engine = create_engine(f\"postgresql://{username}:{password}@{host}:{port}/{database}\")\n",
    "    conn = engine.connect()\n",
    "    print(\"Connected Successfully\")\n",
    "except Exception as e:\n",
    "    print(\"Unable to connect to database\")\n",
    "    print(e)"
   ]
  },
  {
   "attachments": {},
   "cell_type": "markdown",
   "metadata": {},
   "source": [
    "#### Queries"
   ]
  },
  {
   "cell_type": "code",
   "execution_count": 5,
   "metadata": {},
   "outputs": [],
   "source": [
    "def execute_query(query):\n",
    "    try:\n",
    "        result = conn.execute(text(query))\n",
    "        column_names = result.keys()\n",
    "        data = result.fetchall()\n",
    "        return pd.DataFrame(data, columns=column_names)\n",
    "    except Exception as e:\n",
    "        print(\"Unable to execute the query\")\n",
    "        print(e)"
   ]
  },
  {
   "cell_type": "code",
   "execution_count": 6,
   "metadata": {},
   "outputs": [],
   "source": [
    "USER_QUERY = '''SELECT t.* FROM \"Users\" t ORDER BY id;'''\n",
    "QUESTION_QUERY = '''SELECT t.* FROM \"Questions\" t'''\n",
    "\n",
    "user_df = execute_query(USER_QUERY)\n",
    "question_df = execute_query(QUESTION_QUERY)"
   ]
  },
  {
   "attachments": {},
   "cell_type": "markdown",
   "metadata": {},
   "source": [
    "### Plots"
   ]
  },
  {
   "attachments": {},
   "cell_type": "markdown",
   "metadata": {},
   "source": [
    "#### IQ Score Distribution"
   ]
  },
  {
   "cell_type": "code",
   "execution_count": 7,
   "metadata": {},
   "outputs": [
    {
     "data": {
      "image/png": "[encoded data removed]",
      "text/plain": [
       "<Figure size 432x288 with 1 Axes>"
      ]
     },
     "metadata": {
      "needs_background": "light"
     },
     "output_type": "display_data"
    }
   ],
   "source": [
    "scores = user_df['score']\n",
    "plt.hist(scores, bins='auto', density=True,edgecolor='black', label='Observed Distribution')\n",
    "# IQ scores mean and standard deviation\n",
    "mean = 100\n",
    "std_dev = 15\n",
    "# Create a range of x values to plot the normal distribution\n",
    "x = np.linspace(mean - 4 * std_dev, mean + 4 * std_dev, 1000)\n",
    "# Compute the normal distribution (bell curve) with the given mean and standard deviation\n",
    "y = stats.norm.pdf(x, mean, std_dev)\n",
    "plt.plot(x, y, 'r-', label='Expected Distribution')\n",
    "plt.xlabel('IQ Score')\n",
    "plt.ylabel('Density')\n",
    "plt.title('IQ Score Distribution')\n",
    "plt.legend()\n",
    "plt.show()"
   ]
  },
  {
   "cell_type": "code",
   "execution_count": 8,
   "metadata": {},
   "outputs": [
    {
     "name": "stdout",
     "output_type": "stream",
     "text": [
      "IQ Score Statistics\n",
      "Max: 127\n",
      "Min: 42\n",
      "Mean: 95.6\n",
      "Median: 103.0\n",
      "Standard Deviation: 21.929812280698318\n"
     ]
    }
   ],
   "source": [
    "score_mean = scores.mean()\n",
    "score_median = scores.median()\n",
    "score_std = scores.std()\n",
    "score_max = scores.max()\n",
    "score_min = scores.min()\n",
    "print(\"IQ Score Statistics\")\n",
    "print(f\"Max: {score_max}\")\n",
    "print(f\"Min: {score_min}\")\n",
    "print(f\"Mean: {score_mean}\")\n",
    "print(f\"Median: {score_median}\")\n",
    "print(f\"Standard Deviation: {score_std}\")"
   ]
  },
  {
   "attachments": {},
   "cell_type": "markdown",
   "metadata": {},
   "source": [
    "#### Comparison between time left and IQ Score"
   ]
  },
  {
   "cell_type": "code",
   "execution_count": 9,
   "metadata": {},
   "outputs": [
    {
     "data": {
      "image/png": "[encoded data removed]",
      "text/plain": [
       "<Figure size 432x288 with 1 Axes>"
      ]
     },
     "metadata": {
      "needs_background": "light"
     },
     "output_type": "display_data"
    }
   ],
   "source": [
    "time_left = user_df['timeLeft']\n",
    "scores = user_df['score']\n",
    "\n",
    "# Create a scatter plot of time left vs. score\n",
    "plt.scatter(time_left, scores)\n",
    "\n",
    "# Label the axes and add a title\n",
    "plt.xlabel('Time Left (seconds)')\n",
    "plt.ylabel('IQ Score')\n",
    "plt.title('Time Left vs. IQ Score')\n",
    "\n",
    "# Show the plot\n",
    "plt.show()"
   ]
  },
  {
   "cell_type": "code",
   "execution_count": 10,
   "metadata": {},
   "outputs": [
    {
     "name": "stdout",
     "output_type": "stream",
     "text": [
      "Time left statistics\n",
      "Max: 1301\n",
      "Min: 63\n",
      "Mean: 948.76\n",
      "Median: 945.0\n",
      "Standard Deviation: 317.4689328632541\n"
     ]
    }
   ],
   "source": [
    "time_left_mean = time_left.mean()\n",
    "time_left_median = time_left.median()\n",
    "time_left_std = time_left.std()\n",
    "time_left_max = time_left.max()\n",
    "time_left_min = time_left.min()\n",
    "print(\"Time left statistics\")\n",
    "print(f\"Max: {time_left_max}\")\n",
    "print(f\"Min: {time_left_min}\")\n",
    "print(f\"Mean: {time_left_mean}\")\n",
    "print(f\"Median: {time_left_median}\")\n",
    "print(f\"Standard Deviation: {time_left_std}\")"
   ]
  },
  {
   "cell_type": "code",
   "execution_count": 11,
   "metadata": {},
   "outputs": [
    {
     "name": "stdout",
     "output_type": "stream",
     "text": [
      "Score of fastest: 77\n",
      "Score of slowest: 127\n"
     ]
    }
   ],
   "source": [
    "score_of_fastest = scores[time_left == time_left_max].values[0]\n",
    "score_of_slowest = scores[time_left == time_left_min].values[0]\n",
    "print(f\"Score of fastest: {score_of_fastest}\")\n",
    "print(f\"Score of slowest: {score_of_slowest}\")"
   ]
  },
  {
   "attachments": {},
   "cell_type": "markdown",
   "metadata": {},
   "source": [
    "#### Correct/Incorrect Question Distribution"
   ]
  },
  {
   "cell_type": "code",
   "execution_count": 12,
   "metadata": {},
   "outputs": [
    {
     "data": {
      "image/png": "[encoded data removed]",
      "text/plain": [
       "<Figure size 1080x432 with 2 Axes>"
      ]
     },
     "metadata": {
      "needs_background": "light"
     },
     "output_type": "display_data"
    }
   ],
   "source": [
    "grouped_counts = question_df.groupby(['questionId', 'correct']).size().unstack(fill_value=0)\n",
    "\n",
    "# Create a figure with two subplots (one for correct answers and one for incorrect answers)\n",
    "fig, (ax1, ax2) = plt.subplots(1, 2, figsize=(15, 6))\n",
    "fig.suptitle('Balance of Questions')\n",
    "\n",
    "# Plot the distribution of correct answers\n",
    "grouped_counts[True].plot(kind='bar', ax=ax1, color='g', rot=0,width=1,edgecolor='black')\n",
    "ax1.set_title('Correct Answers')\n",
    "ax1.set_xlabel('Question ID')\n",
    "ax1.set_ylabel('Number of Correct Answers')\n",
    "\n",
    "# Plot the distribution of incorrect answers\n",
    "grouped_counts[False].plot(kind='bar', ax=ax2, color='r', rot=0,width=1,edgecolor='black')\n",
    "ax2.set_title('Incorrect Answers')\n",
    "ax2.set_xlabel('Question ID')\n",
    "ax2.set_ylabel('Number of Incorrect Answers')\n",
    "\n",
    "# Adjust the layout and show the plot\n",
    "plt.tight_layout()\n",
    "plt.subplots_adjust(top=0.85)\n",
    "plt.show()"
   ]
  },
  {
   "attachments": {},
   "cell_type": "markdown",
   "metadata": {},
   "source": [
    "#### New (balanced) distribution of questions"
   ]
  },
  {
   "cell_type": "code",
   "execution_count": 13,
   "metadata": {},
   "outputs": [
    {
     "data": {
      "image/png": "[encoded data removed]",
      "text/plain": [
       "<Figure size 720x360 with 1 Axes>"
      ]
     },
     "metadata": {
      "needs_background": "light"
     },
     "output_type": "display_data"
    }
   ],
   "source": [
    "grouped_counts = question_df.groupby(['questionId', 'correct']).size().unstack(fill_value=0)\n",
    "# Function to split DataFrame into chunks of n rows\n",
    "def split_dataframe(df, chunk_size):\n",
    "    return [df[i:i + chunk_size] for i in range(0, df.shape[0], chunk_size)]\n",
    "# Split grouped_counts into chunks of 5 rows\n",
    "grouped_counts_chunks = split_dataframe(grouped_counts, 5)\n",
    "# Sort each chunk in descending order based on correct answers\n",
    "sorted_chunks = [chunk.sort_values(by=True, ascending=False) for chunk in grouped_counts_chunks]\n",
    "# Concatenate the sorted chunks back together\n",
    "sorted_grouped_counts = pd.concat(sorted_chunks)\n",
    "fig, ax1 = plt.subplots(1, figsize=(10, 5))\n",
    "sorted_grouped_counts[True].plot(kind='bar', ax=ax1, rot=0, width=1,edgecolor='black')\n",
    "ax1.set_title('Correct Answers')\n",
    "ax1.set_xlabel('Question ID')\n",
    "ax1.set_ylabel('Number of Correct Answers')\n",
    "plt.show()"
   ]
  },
  {
   "attachments": {},
   "cell_type": "markdown",
   "metadata": {},
   "source": [
    "#### Reliability"
   ]
  },
  {
   "cell_type": "code",
   "execution_count": 14,
   "metadata": {},
   "outputs": [
    {
     "name": "stdout",
     "output_type": "stream",
     "text": [
      "Reliability for Section 1: 0.67\n",
      "Reliability for Section 2: 0.64\n",
      "Reliability for Section 3: 0.64\n",
      "Reliability for Section 4: 0.67\n"
     ]
    }
   ],
   "source": [
    "def split_half_reliability(section_df):\n",
    "    odd_questions = section_df.loc[section_df['questionId'] % 2 == 1]\n",
    "    even_questions = section_df.loc[section_df['questionId'] % 2 == 0]\n",
    "    \n",
    "    odd_scores = odd_questions.groupby('userId')['correct'].sum()\n",
    "    even_scores = even_questions.groupby('userId')['correct'].sum()\n",
    "\n",
    "    # Compute the correlation between the two halves\n",
    "    correlation = np.corrcoef(odd_scores, even_scores)[0, 1]\n",
    "\n",
    "    # Use the Spearman-Brown prophecy formula to estimate the reliability of the whole test\n",
    "    reliability = 2 * correlation / (1 + correlation)\n",
    "\n",
    "    return reliability\n",
    "\n",
    "# Function to filter data for each section based on question ID ranges\n",
    "def filter_data_for_section(question_df, start_question_id, end_question_id):\n",
    "    return question_df.loc[question_df['questionId'].between(start_question_id, end_question_id)]\n",
    "\n",
    "# Filter the data for each section\n",
    "sections = [\n",
    "    filter_data_for_section(question_df, 1, 5),\n",
    "    filter_data_for_section(question_df, 6, 10),\n",
    "    filter_data_for_section(question_df, 11, 15),\n",
    "    filter_data_for_section(question_df, 16, 20)\n",
    "]\n",
    "\n",
    "# Calculate the split-half reliability for each section\n",
    "reliabilities = [split_half_reliability(section) for section in sections]\n",
    "\n",
    "# Display the reliability for each section\n",
    "for i, reliability in enumerate(reliabilities, 1):\n",
    "    print(f\"Reliability for Section {i}: {reliability:.2f}\")"
   ]
  },
  {
   "attachments": {},
   "cell_type": "markdown",
   "metadata": {},
   "source": [
    "#### Close the connection"
   ]
  },
  {
   "cell_type": "code",
   "execution_count": 15,
   "metadata": {},
   "outputs": [],
   "source": [
    "conn.close()"
   ]
  }
 ],
 "metadata": {
  "kernelspec": {
   "display_name": "env1",
   "language": "python",
   "name": "python3"
  },
  "language_info": {
   "codemirror_mode": {
    "name": "ipython",
    "version": 3
   },
   "file_extension": ".py",
   "mimetype": "text/x-python",
   "name": "python",
   "nbconvert_exporter": "python",
   "pygments_lexer": "ipython3",
   "version": "3.9.1"
  },
  "orig_nbformat": 4
 },
 "nbformat": 4,
 "nbformat_minor": 2
}
